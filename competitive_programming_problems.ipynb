{
 "cells": [
  {
   "cell_type": "markdown",
   "metadata": {},
   "source": [
    "# Competitive Programming \n",
    "First, there will be the problem.\n",
    "Next, there will be the code in python 3."
   ]
  },
  {
   "cell_type": "markdown",
   "metadata": {},
   "source": [
    "## Canadian Computing Competition: 2013 Stage 1 \n",
    "You know a family with three children. Their ages form an arithmetic sequence: the difference in ages between the middle child and youngest child is the same as the difference in ages between the oldest child and the middle child. For example, their ages could be 5, 10 and 15, since both adjacent pairs have a difference of 5 years.\n",
    "\n",
    "Given the ages of the youngest and middle children, what is the age of the oldest child?\n",
    "\n",
    "Input Specification\n",
    "The input consists of two integers, each on a separate line. The first line is the age Y of the youngest child (0≤Y≤50). The second line is the age M of the middle child (Y≤M≤50).\n"
   ]
  },
  {
   "cell_type": "code",
   "execution_count": null,
   "metadata": {},
   "outputs": [],
   "source": [
    "num1 = int(input())\n",
    "num2 = int(input())\n",
    "num3 = num2 - num1\n",
    "num4 = num2 + num3\n",
    "print(num4)"
   ]
  },
  {
   "cell_type": "markdown",
   "metadata": {},
   "source": [
    "## Canadian Computing Competition: 2001 Stage 1 \n",
    "It is important to keep our computers safe and clean. Some people feel that computers should be well-dressed, also. For this question, you will write a program to print out a bow tie on the computer screen.\n",
    "\n",
    "Your program should take as input the height H of the bow tie, where H is an odd positive integer greater than or equal to 5. A bow tie with H rows (and 2H columns) should then be printed using the pattern shown below in the sample output."
   ]
  },
  {
   "cell_type": "code",
   "execution_count": null,
   "metadata": {},
   "outputs": [],
   "source": [
    "def bowtie(x):\n",
    "    for i in range(1,x + 1,2):\n",
    "        print(i * '*', end='')\n",
    "        print(((x - i) * 2) * \" \", end='')\n",
    "        print(i * \"*\")\n",
    "    for j in range(x - 2,0,-2):\n",
    "        print(j * \"*\" ,end='')\n",
    "        print(((x - j) * 2) * \" \", end='')\n",
    "        print(j * \"*\")\n",
    "    \n",
    "bowtie(int(input()))"
   ]
  },
  {
   "cell_type": "markdown",
   "metadata": {},
   "source": [
    "## Canadian Computing Competition: 2004  Stage 1\n",
    "Gigi likes to play with squares. She has a collection of equal-sized square tiles. Gigi wants to arrange some or all of her tiles on a table to form a solid square. What is the side length of the largest possible square that Gigi can build?\n",
    "\n",
    "For example, when Gigi has 9 tiles she can use them all to build a square whose side length is 3. But when she has only 8 tiles, the largest square that she can build has side length 2.\n",
    "\n",
    "Write a program that inputs the number of tiles and then prints out the maximum side length. You may assume that the number of tiles is less than ten thousand."
   ]
  },
  {
   "cell_type": "code",
   "execution_count": null,
   "metadata": {},
   "outputs": [],
   "source": [
    "def square(x):\n",
    "    a = 1\n",
    "    while a * a <= x:\n",
    "        a += 1\n",
    "    return a - 1\n",
    "d = square(int(input()))\n",
    "print(\"The largest square has side length {}.\".format(d))"
   ]
  },
  {
   "cell_type": "markdown",
   "metadata": {},
   "source": [
    "## Canadian Computing Competition: 2010 Stage 1 \n",
    "Natalie is learning to count on her fingers. When her Daddy tells her a number n (1≤n≤10), she asks \"What is n, Daddy?\", by which she means \"How many fingers should I hold up on each hand so that the total is n?\"\n",
    "\n",
    "To make matters simple, her Daddy gives her the correct finger representation according to the following rules:\n",
    "\n",
    "the number may be represented on one or two hands;\n",
    "if the number is represented on two hands, the larger number is given first.\n",
    "For example, if Natalie asks \"What is 4, Daddy?\", her Dad may reply:\n",
    "\n",
    "4 is 4.\n",
    "4 is 3 and 1.\n",
    "4 is 2 and 2.\n",
    "Your job is to make sure that Natalie's Daddy gives the correct number of answers."
   ]
  },
  {
   "cell_type": "code",
   "execution_count": 21,
   "metadata": {},
   "outputs": [
    {
     "name": "stdout",
     "output_type": "stream",
     "text": [
      "3\n",
      "2\n"
     ]
    }
   ],
   "source": [
    "d = {1 : 1, 2:2, 3:2, 4:3, 5:3, 6:3, 7:2, 8:2, 9:1}#This is a dictionary\n",
    "print(d[int(input())])"
   ]
  },
  {
   "cell_type": "markdown",
   "metadata": {},
   "source": [
    "## Canadian Computing Competition: 2003 Stage 1 \n",
    "A trident is a fork with three tines (prongs). A simple picture of a trident can be made from asterisks and spaces:\n",
    "\n",
    "<code/>\n",
    "&ast;  &ast;  &ast;\n",
    "&ast;  &ast;  &ast;\n",
    "&ast;  &ast;  &ast;\n",
    "&ast;&ast;&ast;&ast;&ast;&ast;&ast;\n",
    "   &ast;\n",
    "   &ast;\n",
    "   &ast;\n",
    "   &ast;\n",
    "</code>\n",
    "In this example, each tine is a vertical column of 3 asterisks. Each tine is separated by 2 spaces. The handle is a vertical column of 4 asterisks below the middle tine.\n",
    "\n",
    "Tridents of various shapes can be drawn by varying three parameters: t, the height of the tines, s, the spacing between tines, and h, the length of the handle. For the example above we have t=3, s=2, and h=4.\n",
    "\n",
    "You are to write an interactive program to print a trident. Your program should accept as input the parameters t, s, and h, and print the appropriate trident. You can assume that t, s, h are each at least 0 and not larger than 10."
   ]
  },
  {
   "cell_type": "code",
   "execution_count": null,
   "metadata": {},
   "outputs": [],
   "source": [
    "def trident(t,s,h):\n",
    "    e = \"*\" + s * \" \" + \"*\" + s * \" \" + \"*\"\n",
    "    for i in range(t):\n",
    "        print(e)\n",
    "    print(s * 2 * \"*\" + 3 * \"*\")\n",
    "    for j in range(h):\n",
    "        print((s + 1) * \" \" + \"*\"  )\n",
    "trident(int(input()),int(input()),int(input()))"
   ]
  },
  {
   "cell_type": "markdown",
   "metadata": {},
   "source": [
    "## Canadian Computing Competition: 2015 Stage 1\n",
    "February 18 is a special date for the CCC this year.\n",
    "\n",
    "Write a program that asks the user for a numerical month and numerical day of the month and then determines whether that date occurs before, after, or on February 18.\n",
    "\n",
    "If the date occurs before February 18, output the word Before.\n",
    "If the date occurs after February 18, output the word After.\n",
    "If the date is February 18, output the word Special.\n",
    "\n",
    "### Input Specification\n",
    "The input consists of two integers each on a separate line. These integers represent a date in 2015.\n",
    "\n",
    "The first line will contain the month, which will be an integer in the range from 1 (indicating January) to 12 (indicating December).\n",
    "\n",
    "The second line will contain the day of the month, which will be an integer in the range from 1 to 31. You can assume that the day of the month will be valid for the given month."
   ]
  },
  {
   "cell_type": "code",
   "execution_count": null,
   "metadata": {},
   "outputs": [],
   "source": [
    "def feb_eighteen(m,d):\n",
    "    if m < 2:\n",
    "        return \"Before\"\n",
    "    elif m > 2:\n",
    "        return \"After\"\n",
    "    else:\n",
    "        if d == 18:\n",
    "            return \"Special\"\n",
    "        elif d < 18:\n",
    "            return \"Before\"\n",
    "        else:\n",
    "            return \"After\"\n",
    "feb_eighteen(int(input()),int(input()))"
   ]
  },
  {
   "cell_type": "markdown",
   "metadata": {},
   "source": [
    "## Canadian Computing Competition: 2014 Stage 1 \n",
    "You have trouble remembering which type of triangle is which. You write a program to help. Your program reads in three angles (in degrees).\n",
    "\n",
    "If all three angles are 60, output Equilateral.\n",
    "If the three angles add up to 180 and exactly two of the angles are the same, output Isosceles.\n",
    "If the three angles add up to 180 and no two angles are the same, output Scalene.\n",
    "If the three angles do not add up to 180, output Error.\n",
    "### Input Specification\n",
    "The input consists of three integers, each on a separate line. Each integer will be greater than 0 and less than 180.\n",
    "\n",
    "### Output Specification\n",
    "Exactly one of Equilateral, Isosceles, Scalene or Error will be printed on one line."
   ]
  },
  {
   "cell_type": "code",
   "execution_count": null,
   "metadata": {},
   "outputs": [],
   "source": [
    "def triangle(a,b,c):\n",
    "    if a + b + c != 180:\n",
    "        return \"Error\"\n",
    "    elif a == b and a == c:\n",
    "        return \"Equilateral\"\n",
    "    elif a != b and a == c or a != c and a == b or b == c:\n",
    "        return \"Isosceles\"\n",
    "    else:\n",
    "        return \"Scalene\"\n",
    "print(triangle(int(input()),int(input()) ,int(input())))"
   ]
  },
  {
   "cell_type": "markdown",
   "metadata": {},
   "source": [
    "# Goto https://kyso.io/milkybunny/learnpython for a nice webpage\n",
    "The owner must be really good at things"
   ]
  },
  {
   "cell_type": "markdown",
   "metadata": {},
   "source": []
  }
 ],
 "metadata": {
  "kernelspec": {
   "display_name": "Python 3",
   "language": "python",
   "name": "python3"
  },
  "language_info": {
   "codemirror_mode": {
    "name": "ipython",
    "version": 3
   },
   "file_extension": ".py",
   "mimetype": "text/x-python",
   "name": "python",
   "nbconvert_exporter": "python",
   "pygments_lexer": "ipython3",
   "version": "3.6.5"
  }
 },
 "nbformat": 4,
 "nbformat_minor": 2
}
