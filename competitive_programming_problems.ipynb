{
 "cells": [
  {
   "cell_type": "markdown",
   "metadata": {},
   "source": [
    "# Competitive Programming \n",
    "First, there will be the problem.\n",
    "Next, there will be the code in python 3."
   ]
  },
  {
   "cell_type": "markdown",
   "metadata": {},
   "source": [
    "## Canadian Computing Competition: 2013 Stage 1 \n",
    "You know a family with three children. Their ages form an arithmetic sequence: the difference in ages between the middle child and youngest child is the same as the difference in ages between the oldest child and the middle child. For example, their ages could be 5, 10 and 15, since both adjacent pairs have a difference of 5 years.\n",
    "\n",
    "Given the ages of the youngest and middle children, what is the age of the oldest child?\n",
    "\n",
    "Input Specification\n",
    "The input consists of two integers, each on a separate line. The first line is the age Y of the youngest child (0≤Y≤50). The second line is the age M of the middle child (Y≤M≤50).\n"
   ]
  },
  {
   "cell_type": "code",
   "execution_count": null,
   "metadata": {},
   "outputs": [],
   "source": [
    "num1 = int(input())\n",
    "num2 = int(input())\n",
    "num3 = num2 - num1\n",
    "num4 = num2 + num3\n",
    "print(num4)"
   ]
  },
  {
   "cell_type": "markdown",
   "metadata": {},
   "source": [
    "## Canadian Computing Competition: 2001 Stage 1 \n",
    "It is important to keep our computers safe and clean. Some people feel that computers should be well-dressed, also. For this question, you will write a program to print out a bow tie on the computer screen.\n",
    "\n",
    "Your program should take as input the height H of the bow tie, where H is an odd positive integer greater than or equal to 5. A bow tie with H rows (and 2H columns) should then be printed using the pattern shown below in the sample output."
   ]
  },
  {
   "cell_type": "code",
   "execution_count": null,
   "metadata": {},
   "outputs": [],
   "source": [
    "def bowtie(x):\n",
    "    for i in range(1,x + 1,2):\n",
    "        print(i * '*', end='')\n",
    "        print(((x - i) * 2) * \" \", end='')\n",
    "        print(i * \"*\")\n",
    "    for j in range(x - 2,0,-2):\n",
    "        print(j * \"*\" ,end='')\n",
    "        print(((x - j) * 2) * \" \", end='')\n",
    "        print(j * \"*\")\n",
    "    \n",
    "bowtie(int(input()))"
   ]
  },
  {
   "cell_type": "markdown",
   "metadata": {},
   "source": [
    "## Canadian Computing Competition: 2004  Stage 1\n",
    "Gigi likes to play with squares. She has a collection of equal-sized square tiles. Gigi wants to arrange some or all of her tiles on a table to form a solid square. What is the side length of the largest possible square that Gigi can build?\n",
    "\n",
    "For example, when Gigi has 9 tiles she can use them all to build a square whose side length is 3. But when she has only 8 tiles, the largest square that she can build has side length 2.\n",
    "\n",
    "Write a program that inputs the number of tiles and then prints out the maximum side length. You may assume that the number of tiles is less than ten thousand."
   ]
  },
  {
   "cell_type": "code",
   "execution_count": null,
   "metadata": {},
   "outputs": [],
   "source": [
    "def square(x):\n",
    "    a = 1\n",
    "    while a * a <= x:\n",
    "        a += 1\n",
    "    return a - 1\n",
    "d = square(int(input()))\n",
    "print(\"The largest square has side length {}.\".format(d))"
   ]
  },
  {
   "cell_type": "markdown",
   "metadata": {},
   "source": [
    "## Canadian Computing Competition: 2010 Stage 1 \n",
    "Natalie is learning to count on her fingers. When her Daddy tells her a number n (1≤n≤10), she asks \"What is n, Daddy?\", by which she means \"How many fingers should I hold up on each hand so that the total is n?\"\n",
    "\n",
    "To make matters simple, her Daddy gives her the correct finger representation according to the following rules:\n",
    "\n",
    "the number may be represented on one or two hands;\n",
    "if the number is represented on two hands, the larger number is given first.\n",
    "For example, if Natalie asks \"What is 4, Daddy?\", her Dad may reply:\n",
    "\n",
    "4 is 4.\n",
    "4 is 3 and 1.\n",
    "4 is 2 and 2.\n",
    "Your job is to make sure that Natalie's Daddy gives the correct number of answers."
   ]
  },
  {
   "cell_type": "code",
   "execution_count": null,
   "metadata": {},
   "outputs": [],
   "source": [
    "d = {1 : 1,2:2,3:2,4:3,5:3,6:3,7:2,8:2,9:1}#This is a dictionary\n",
    "print(d[int(input())])"
   ]
  },
  {
   "cell_type": "markdown",
   "metadata": {},
   "source": [
    "# Goto https://www.occoder.com/recent for a nice webpage\n",
    "The owner must be really good at things"
   ]
  },
  {
   "cell_type": "markdown",
   "metadata": {},
   "source": []
  }
 ],
 "metadata": {
  "kernelspec": {
   "display_name": "Python 3",
   "language": "python",
   "name": "python3"
  },
  "language_info": {
   "codemirror_mode": {
    "name": "ipython",
    "version": 3
   },
   "file_extension": ".py",
   "mimetype": "text/x-python",
   "name": "python",
   "nbconvert_exporter": "python",
   "pygments_lexer": "ipython3",
   "version": "3.6.5"
  }
 },
 "nbformat": 4,
 "nbformat_minor": 2
}
